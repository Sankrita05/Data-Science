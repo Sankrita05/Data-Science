{
 "cells": [
  {
   "cell_type": "code",
   "execution_count": 1,
   "id": "990dd776",
   "metadata": {},
   "outputs": [
    {
     "name": "stdout",
     "output_type": "stream",
     "text": [
      "Collecting nltk\n",
      "  Downloading nltk-3.9.1-py3-none-any.whl.metadata (2.9 kB)\n",
      "Collecting click (from nltk)\n",
      "  Downloading click-8.1.8-py3-none-any.whl.metadata (2.3 kB)\n",
      "Requirement already satisfied: joblib in c:\\users\\sankr\\documents\\data science\\venv\\lib\\site-packages (from nltk) (1.4.2)\n",
      "Collecting regex>=2021.8.3 (from nltk)\n",
      "  Downloading regex-2024.11.6-cp313-cp313-win_amd64.whl.metadata (41 kB)\n",
      "Collecting tqdm (from nltk)\n",
      "  Downloading tqdm-4.67.1-py3-none-any.whl.metadata (57 kB)\n",
      "Requirement already satisfied: colorama in c:\\users\\sankr\\documents\\data science\\venv\\lib\\site-packages (from click->nltk) (0.4.6)\n",
      "Downloading nltk-3.9.1-py3-none-any.whl (1.5 MB)\n",
      "   ---------------------------------------- 0.0/1.5 MB ? eta -:--:--\n",
      "   ---------------------------------------- 0.0/1.5 MB ? eta -:--:--\n",
      "   ---------------------------------------- 0.0/1.5 MB ? eta -:--:--\n",
      "   ---------------------------------------- 0.0/1.5 MB ? eta -:--:--\n",
      "   ---------------------------------------- 0.0/1.5 MB ? eta -:--:--\n",
      "   ---------------------------------------- 0.0/1.5 MB ? eta -:--:--\n",
      "   ------ --------------------------------- 0.3/1.5 MB ? eta -:--:--\n",
      "   ------ --------------------------------- 0.3/1.5 MB ? eta -:--:--\n",
      "   ------ --------------------------------- 0.3/1.5 MB ? eta -:--:--\n",
      "   ------ --------------------------------- 0.3/1.5 MB ? eta -:--:--\n",
      "   ------ --------------------------------- 0.3/1.5 MB ? eta -:--:--\n",
      "   ------ --------------------------------- 0.3/1.5 MB ? eta -:--:--\n",
      "   ------ --------------------------------- 0.3/1.5 MB ? eta -:--:--\n",
      "   ------------- -------------------------- 0.5/1.5 MB 162.4 kB/s eta 0:00:07\n",
      "   ------------- -------------------------- 0.5/1.5 MB 162.4 kB/s eta 0:00:07\n",
      "   ------------- -------------------------- 0.5/1.5 MB 162.4 kB/s eta 0:00:07\n",
      "   ------------- -------------------------- 0.5/1.5 MB 162.4 kB/s eta 0:00:07\n",
      "   ------------- -------------------------- 0.5/1.5 MB 162.4 kB/s eta 0:00:07\n",
      "   ------------- -------------------------- 0.5/1.5 MB 162.4 kB/s eta 0:00:07\n",
      "   ------------- -------------------------- 0.5/1.5 MB 162.4 kB/s eta 0:00:07\n",
      "   ------------- -------------------------- 0.5/1.5 MB 162.4 kB/s eta 0:00:07\n",
      "   ------------- -------------------------- 0.5/1.5 MB 162.4 kB/s eta 0:00:07\n",
      "   ------------- -------------------------- 0.5/1.5 MB 162.4 kB/s eta 0:00:07\n",
      "   ------------- -------------------------- 0.5/1.5 MB 162.4 kB/s eta 0:00:07\n",
      "   ------------- -------------------------- 0.5/1.5 MB 162.4 kB/s eta 0:00:07\n",
      "   -------------------- ------------------- 0.8/1.5 MB 129.2 kB/s eta 0:00:06\n",
      "   -------------------- ------------------- 0.8/1.5 MB 129.2 kB/s eta 0:00:06\n",
      "   -------------------- ------------------- 0.8/1.5 MB 129.2 kB/s eta 0:00:06\n",
      "   -------------------- ------------------- 0.8/1.5 MB 129.2 kB/s eta 0:00:06\n",
      "   --------------------------- ------------ 1.0/1.5 MB 161.5 kB/s eta 0:00:03\n",
      "   --------------------------- ------------ 1.0/1.5 MB 161.5 kB/s eta 0:00:03\n",
      "   --------------------------- ------------ 1.0/1.5 MB 161.5 kB/s eta 0:00:03\n",
      "   --------------------------- ------------ 1.0/1.5 MB 161.5 kB/s eta 0:00:03\n",
      "   --------------------------- ------------ 1.0/1.5 MB 161.5 kB/s eta 0:00:03\n",
      "   --------------------------- ------------ 1.0/1.5 MB 161.5 kB/s eta 0:00:03\n",
      "   ---------------------------------- ----- 1.3/1.5 MB 175.0 kB/s eta 0:00:02\n",
      "   ---------------------------------- ----- 1.3/1.5 MB 175.0 kB/s eta 0:00:02\n",
      "   ---------------------------------- ----- 1.3/1.5 MB 175.0 kB/s eta 0:00:02\n",
      "   ---------------------------------- ----- 1.3/1.5 MB 175.0 kB/s eta 0:00:02\n",
      "   ---------------------------------- ----- 1.3/1.5 MB 175.0 kB/s eta 0:00:02\n",
      "   ---------------------------------- ----- 1.3/1.5 MB 175.0 kB/s eta 0:00:02\n",
      "   ---------------------------------------- 1.5/1.5 MB 171.6 kB/s eta 0:00:00\n",
      "Downloading regex-2024.11.6-cp313-cp313-win_amd64.whl (273 kB)\n",
      "Downloading click-8.1.8-py3-none-any.whl (98 kB)\n",
      "Downloading tqdm-4.67.1-py3-none-any.whl (78 kB)\n",
      "Installing collected packages: tqdm, regex, click, nltk\n",
      "Successfully installed click-8.1.8 nltk-3.9.1 regex-2024.11.6 tqdm-4.67.1\n"
     ]
    }
   ],
   "source": [
    "! pip install nltk"
   ]
  },
  {
   "cell_type": "code",
   "execution_count": null,
   "id": "48658027",
   "metadata": {},
   "outputs": [],
   "source": [
    "import nltk "
   ]
  }
 ],
 "metadata": {
  "kernelspec": {
   "display_name": "venv",
   "language": "python",
   "name": "python3"
  },
  "language_info": {
   "codemirror_mode": {
    "name": "ipython",
    "version": 3
   },
   "file_extension": ".py",
   "mimetype": "text/x-python",
   "name": "python",
   "nbconvert_exporter": "python",
   "pygments_lexer": "ipython3",
   "version": "3.13.3"
  }
 },
 "nbformat": 4,
 "nbformat_minor": 5
}
